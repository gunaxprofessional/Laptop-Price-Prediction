{
 "cells": [
  {
   "cell_type": "code",
   "execution_count": 1,
   "id": "97f29842",
   "metadata": {},
   "outputs": [],
   "source": [
    "#pip install flask"
   ]
  },
  {
   "cell_type": "code",
   "execution_count": 1,
   "id": "03099aff",
   "metadata": {},
   "outputs": [
    {
     "name": "stdout",
     "output_type": "stream",
     "text": [
      " * Serving Flask app \"__main__\" (lazy loading)\n",
      " * Environment: production\n",
      "\u001b[31m   WARNING: This is a development server. Do not use it in a production deployment.\u001b[0m\n",
      "\u001b[2m   Use a production WSGI server instead.\u001b[0m\n",
      " * Debug mode: off\n"
     ]
    },
    {
     "name": "stderr",
     "output_type": "stream",
     "text": [
      " * Running on http://127.0.0.1:80/ (Press CTRL+C to quit)\n",
      "127.0.0.1 - - [06/Oct/2023 07:39:31] \"GET / HTTP/1.1\" 200 -\n",
      "127.0.0.1 - - [06/Oct/2023 07:39:31] \"GET /style.css HTTP/1.1\" 404 -\n",
      "127.0.0.1 - - [06/Oct/2023 07:39:31] \"GET /favicon.ico HTTP/1.1\" 404 -\n",
      "127.0.0.1 - - [06/Oct/2023 07:39:33] \"GET /create_account HTTP/1.1\" 200 -\n",
      "127.0.0.1 - - [06/Oct/2023 07:39:34] \"GET /static/style.css HTTP/1.1\" 200 -\n",
      "127.0.0.1 - - [06/Oct/2023 07:40:08] \"POST /create_account HTTP/1.1\" 302 -\n",
      "127.0.0.1 - - [06/Oct/2023 07:40:08] \"GET /view_accounts HTTP/1.1\" 200 -\n",
      "127.0.0.1 - - [06/Oct/2023 07:40:08] \"GET /style.css HTTP/1.1\" 404 -\n",
      "127.0.0.1 - - [06/Oct/2023 07:40:11] \"GET /create_account HTTP/1.1\" 200 -\n",
      "127.0.0.1 - - [06/Oct/2023 07:40:35] \"POST /create_account HTTP/1.1\" 302 -\n",
      "127.0.0.1 - - [06/Oct/2023 07:40:35] \"GET /view_accounts HTTP/1.1\" 200 -\n",
      "127.0.0.1 - - [06/Oct/2023 07:40:35] \"GET /style.css HTTP/1.1\" 404 -\n"
     ]
    }
   ],
   "source": [
    "from flask import Flask, render_template, request, redirect, url_for\n",
    "from pymongo import MongoClient\n",
    "\n",
    "app = Flask(__name__)\n",
    "\n",
    "# MongoDB setup\n",
    "client = MongoClient(\"mongodb://localhost:27017/\")\n",
    "db = client[\"banking_system\"]\n",
    "accounts_collection = db[\"accounts\"]\n",
    "\n",
    "@app.route('/')\n",
    "def index():\n",
    "    return render_template('index.html')\n",
    "\n",
    "@app.route('/create_account', methods=['GET', 'POST'])\n",
    "def create_account():\n",
    "    if request.method == 'POST':\n",
    "        account_number = request.form['account_number']\n",
    "        account_holder = request.form['account_holder']\n",
    "        balance = float(request.form['balance'])\n",
    "        \n",
    "        accounts_collection.insert_one({\n",
    "            \"account_number\": account_number,\n",
    "            \"account_holder\": account_holder,\n",
    "            \"balance\": balance\n",
    "        })\n",
    "        \n",
    "        return redirect('/view_accounts')\n",
    "    \n",
    "    return render_template('create_account.html')\n",
    "\n",
    "@app.route('/view_accounts')\n",
    "def view_accounts():\n",
    "    accounts = accounts_collection.find()\n",
    "    return render_template('view_accounts.html', accounts=accounts)\n",
    "\n",
    "if __name__ == '__main__':\n",
    "    app.run(port=80)"
   ]
  },
  {
   "cell_type": "code",
   "execution_count": null,
   "id": "9e9f4f41",
   "metadata": {},
   "outputs": [],
   "source": [
    "%tb\n"
   ]
  },
  {
   "cell_type": "code",
   "execution_count": null,
   "id": "38bc84b3",
   "metadata": {},
   "outputs": [],
   "source": []
  }
 ],
 "metadata": {
  "kernelspec": {
   "display_name": "Python 3 (ipykernel)",
   "language": "python",
   "name": "python3"
  },
  "language_info": {
   "codemirror_mode": {
    "name": "ipython",
    "version": 3
   },
   "file_extension": ".py",
   "mimetype": "text/x-python",
   "name": "python",
   "nbconvert_exporter": "python",
   "pygments_lexer": "ipython3",
   "version": "3.9.13"
  }
 },
 "nbformat": 4,
 "nbformat_minor": 5
}
